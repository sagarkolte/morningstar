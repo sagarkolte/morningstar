{
 "cells": [
  {
   "cell_type": "code",
   "execution_count": 36,
   "metadata": {},
   "outputs": [],
   "source": [
    "from bs4 import BeautifulSoup\n",
    "import requests\n",
    "import pandas as pd\n",
    "import numpy as np\n",
    "from googlesearch import search\n",
    "import re"
   ]
  },
  {
   "cell_type": "code",
   "execution_count": 43,
   "metadata": {},
   "outputs": [],
   "source": [
    "def get_morningstar_page(name):\n",
    "    try:\n",
    "        query = name + \"morningstar\"\n",
    "        url_list = search(query, tld=\"co.in\", num=10, stop=10, pause=2)\n",
    "        url_list = [x for x in url_list if re.search(\"financials-key-ratios.aspx\", x)]\n",
    "        return url_list[0]\n",
    "    except Exception as e:\n",
    "        print(e)\n",
    "        return 'nan'\n",
    "\n",
    "def get_ratios(name):\n",
    "    url = get_morningstar_page(name)\n",
    "    req = requests.get(url)\n",
    "    soup = BeautifulSoup(req.text, \"html.parser\")\n",
    "    pe = soup.find_all(\"span\", vkey = \"PE\")\n",
    "    pb = soup.find_all(\"span\", vkey = \"PB\")\n",
    "    return pe,pb\n"
   ]
  },
  {
   "cell_type": "code",
   "execution_count": null,
   "metadata": {},
   "outputs": [],
   "source": []
  }
 ],
 "metadata": {
  "kernelspec": {
   "display_name": "Python 3",
   "language": "python",
   "name": "python3"
  },
  "language_info": {
   "codemirror_mode": {
    "name": "ipython",
    "version": 3
   },
   "file_extension": ".py",
   "mimetype": "text/x-python",
   "name": "python",
   "nbconvert_exporter": "python",
   "pygments_lexer": "ipython3",
   "version": "3.8.5"
  }
 },
 "nbformat": 4,
 "nbformat_minor": 4
}
